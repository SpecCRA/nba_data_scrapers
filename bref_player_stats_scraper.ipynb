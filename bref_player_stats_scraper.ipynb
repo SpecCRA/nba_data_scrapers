{
 "cells": [
  {
   "cell_type": "code",
   "execution_count": 1,
   "metadata": {
    "collapsed": true
   },
   "outputs": [],
   "source": [
    "from bs4 import BeautifulSoup\n",
    "import requests\n",
    "import pandas as pd\n",
    "import numpy as np"
   ]
  },
  {
   "cell_type": "code",
   "execution_count": 2,
   "metadata": {
    "collapsed": true
   },
   "outputs": [],
   "source": [
    "# Create url templates for each kind of stats\n",
    "per_g_url_template = \"https://www.basketball-reference.com/leagues/NBA_{year}\\\n",
    "_per_game.html\"\n",
    "adv_url_template = \"https://www.basketball-reference.com/leagues/NBA_{year}\\\n",
    "_advanced.html\"\n",
    "tot_url_template = \"https://www.basketball-reference.com/leagues/NBA_{year}\\\n",
    "_totals.html\"\n",
    "per_36m_url_template = \"https://www.basketball-reference.com/leagues/NBA_{year}_\\\n",
    "per_minute.html\"\n",
    "per_100p_url_template = \"https://www.basketball-reference.com/leagues/NBA_{year}_\\\n",
    "per_poss.html\"\n",
    "\n",
    "# Put all the URL templates into a list\n",
    "url_template_list = [per_g_url_template, adv_url_template, tot_url_template, \n",
    "                     per_36m_url_template, per_100p_url_template]"
   ]
  },
  {
   "cell_type": "code",
   "execution_count": 3,
   "metadata": {
    "collapsed": true
   },
   "outputs": [],
   "source": [
    "# Create empty lists to store data before appending to Dataframe\n",
    "column_headers = []\n",
    "player_data = []\n",
    "# Create empty DataFrame for following functions to fill\n",
    "df = pd.DataFrame()"
   ]
  },
  {
   "cell_type": "code",
   "execution_count": 4,
   "metadata": {
    "collapsed": true
   },
   "outputs": [],
   "source": [
    "# Empty DataFrames for each set of pages\n",
    "df_adv = pd.DataFrame()\n",
    "df_per_g = pd.DataFrame()\n",
    "df_tot = pd.DataFrame()\n",
    "df_per_36m = pd.DataFrame()\n",
    "df_per_100p = pd.DataFrame"
   ]
  },
  {
   "cell_type": "code",
   "execution_count": 5,
   "metadata": {
    "collapsed": true
   },
   "outputs": [],
   "source": [
    "# Get column headers from each page\n",
    "# Assigns a new list of column headers each time this is called\n",
    "def get_column_headers(soup):\n",
    "    headers = []\n",
    "    for th in soup.find('tr').findAll('th'):\n",
    "        #print th.getText()\n",
    "        headers.append(th.getText())\n",
    "    #print headers # this line was for a bug check\n",
    "    # Assign global variable to headers gathered by function\n",
    "    return headers    \n",
    "    #column_headers = [th.getText() for th in soup.find('tr').findAll('th')]"
   ]
  },
  {
   "cell_type": "code",
   "execution_count": 6,
   "metadata": {
    "collapsed": true
   },
   "outputs": [],
   "source": [
    "# old function that's a mess\n",
    "def get_player_data(soup):\n",
    "    temp_player_data = []\n",
    "    for i in range(len(soup.findAll('tr')[1:])):\n",
    "        # temp list to store player data\n",
    "        player_row = []\n",
    "        \n",
    "        # Loop through 'td' tags to extract player data\n",
    "        for td in soup.findAll('tr')[1:][i].findAll('td'):\n",
    "            player_row.append(td.getText())\n",
    "        \n",
    "        # Append data to a list    \n",
    "        temp_player_data.append(player_row)\n",
    "        \n",
    "        # Replace global variable with gathered player data\n",
    "    print temp_player_data\n",
    "    player_data = temp_player_data"
   ]
  },
  {
   "cell_type": "code",
   "execution_count": 7,
   "metadata": {
    "collapsed": true
   },
   "outputs": [],
   "source": [
    "# Get player data from each page\n",
    "# Replaces global variable at the end\n",
    "#def get_player_data(soup):\n",
    "    # list comprehension to grab player data and replace global list each time\n",
    "#    player_data = [[td.getText() for td in soup.findAll('tr')[1:][i].findAll('td')]\n",
    "#                  for i in range(len(soup.findAll('tr')[1:]))]"
   ]
  },
  {
   "cell_type": "code",
   "execution_count": 8,
   "metadata": {
    "collapsed": true
   },
   "outputs": [],
   "source": [
    "# Function to get player data from each page\n",
    "def get_player_data(soup):\n",
    "    # Temporary list within function to store data\n",
    "    temp_player_data = []\n",
    "    \n",
    "    data_rows = soup.findAll('tr')[1:] # skip first row\n",
    "    for i in range(len(data_rows)): # loop through each table row\n",
    "        player_row = [] # empty list for each player row\n",
    "        for td in data_rows[i].findAll('td'):\n",
    "            player_row.append(td.getText()) # append separate data points\n",
    "        temp_player_data.append(player_row) # append player row data\n",
    "    return temp_player_data"
   ]
  },
  {
   "cell_type": "code",
   "execution_count": 9,
   "metadata": {
    "collapsed": true
   },
   "outputs": [],
   "source": [
    "def scrape_page(url):\n",
    "    r = requests.get(url) # get the url\n",
    "    soup = BeautifulSoup(r.text, 'html.parser') # Create BS object\n",
    "    \n",
    "    # call function to get column headers\n",
    "    column_headers = get_column_headers(soup)\n",
    "    \n",
    "    # call function to get player data\n",
    "    player_data = get_player_data(soup)\n",
    "    \n",
    "    # input data to DataFrame\n",
    "    # Skip first value of column headers, 'Rk'\n",
    "    df = pd.DataFrame(player_data, columns = column_headers[1:])\n",
    "    \n",
    "    return df"
   ]
  },
  {
   "cell_type": "code",
   "execution_count": 10,
   "metadata": {
    "collapsed": true
   },
   "outputs": [],
   "source": [
    "def get_season(input_year):\n",
    "    first_yr = input_year - 1\n",
    "    season = str(first_yr) + \"-\" + str(year)[2:]\n",
    "    return season"
   ]
  },
  {
   "cell_type": "code",
   "execution_count": 29,
   "metadata": {},
   "outputs": [
    {
     "name": "stdout",
     "output_type": "stream",
     "text": [
      "2015-16\n"
     ]
    }
   ],
   "source": [
    "print get_season(2016)"
   ]
  },
  {
   "cell_type": "code",
   "execution_count": 11,
   "metadata": {
    "collapsed": true
   },
   "outputs": [],
   "source": [
    "def gen_cleaning(df):\n",
    "    # Drop columns with no data\n",
    "    df.dropna(axis = 1, how = \"all\", inplace = True)\n",
    "    \n",
    "    # Drop rows with no data\n",
    "    df.dropna(axis = 0, how = \"all\", inplace = True)\n",
    "    \n",
    "    # Remove duplicates player inputs; ie. players who were traded\n",
    "    # I only kept the TOT per game season values\n",
    "    df.drop_duplicates([\"Player\"], keep = \"first\", inplace = True)\n",
    "    \n",
    "    # Change % symbol to _perc\n",
    "    df.columns = df.columns.str.replace('%', '_perc')\n",
    "    \n",
    "    return df"
   ]
  },
  {
   "cell_type": "code",
   "execution_count": 27,
   "metadata": {
    "collapsed": true
   },
   "outputs": [],
   "source": [
    "def scrape_pages(url_template, start_year, end_year, output_df):\n",
    "    for year in range(start_year, end_year):\n",
    "        url = url_template.format(year = year) # grab URL per year\n",
    "        r = requests.get(url)\n",
    "        soup = BeautifulSoup(r.text, 'html5lib') # Create soup item\n",
    "        \n",
    "        # Check to grab column headers\n",
    "        if len(column_headers) == 0: # only append column headers once\n",
    "            columns = get_column_headers(soup)\n",
    "        else:\n",
    "            continue\n",
    "            \n",
    "        # grab player data for each year\n",
    "        player_data = get_player_data(soup)\n",
    "        \n",
    "        # Create temporary DataFrame first for each year\n",
    "        year_df = pd.DataFrame(player_data, columns = columns[1:])\n",
    "        year_df.insert(0, 'Season', get_season(year)) # insert season year column\n",
    "        print year_df.tail(n=5)\n",
    "        \n",
    "        # Append to big DataFrame for detailed cleaning\n",
    "        #output_df = output_df.append(year_df, ignore_index = True)"
   ]
  },
  {
   "cell_type": "code",
   "execution_count": 13,
   "metadata": {
    "collapsed": true
   },
   "outputs": [],
   "source": [
    "for url_page in url_template_list:\n",
    "    column_headers = [] # clear column headers each time so function will work\n",
    "    pass"
   ]
  },
  {
   "cell_type": "code",
   "execution_count": 14,
   "metadata": {
    "collapsed": true
   },
   "outputs": [],
   "source": [
    "# This bunch of code is just for me to check things as I go\n",
    "\n",
    "#url = \"https://www.basketball-reference.com/leagues/NBA_2017_advanced.html\"\n",
    "#r = requests.get(url)\n",
    "#soup = BeautifulSoup(r.text, 'html.parser')\n",
    "#column_headers = get_column_headers(soup)\n",
    "#player_data = get_player_data(soup)\n",
    "#print column_headers\n",
    "#print player_data"
   ]
  },
  {
   "cell_type": "code",
   "execution_count": 15,
   "metadata": {
    "collapsed": true,
    "scrolled": true
   },
   "outputs": [],
   "source": [
    "df = scrape_page(\"https://www.basketball-reference.com/leagues/NBA_2017_advanced.html\")"
   ]
  },
  {
   "cell_type": "code",
   "execution_count": 16,
   "metadata": {
    "scrolled": true
   },
   "outputs": [
    {
     "data": {
      "text/html": [
       "<div>\n",
       "<style>\n",
       "    .dataframe thead tr:only-child th {\n",
       "        text-align: right;\n",
       "    }\n",
       "\n",
       "    .dataframe thead th {\n",
       "        text-align: left;\n",
       "    }\n",
       "\n",
       "    .dataframe tbody tr th {\n",
       "        vertical-align: top;\n",
       "    }\n",
       "</style>\n",
       "<table border=\"1\" class=\"dataframe\">\n",
       "  <thead>\n",
       "    <tr style=\"text-align: right;\">\n",
       "      <th></th>\n",
       "      <th>Player</th>\n",
       "      <th>Pos</th>\n",
       "      <th>Age</th>\n",
       "      <th>Tm</th>\n",
       "      <th>G</th>\n",
       "      <th>MP</th>\n",
       "      <th>PER</th>\n",
       "      <th>TS%</th>\n",
       "      <th>3PAr</th>\n",
       "      <th>FTr</th>\n",
       "      <th>...</th>\n",
       "      <th></th>\n",
       "      <th>OWS</th>\n",
       "      <th>DWS</th>\n",
       "      <th>WS</th>\n",
       "      <th>WS/48</th>\n",
       "      <th></th>\n",
       "      <th>OBPM</th>\n",
       "      <th>DBPM</th>\n",
       "      <th>BPM</th>\n",
       "      <th>VORP</th>\n",
       "    </tr>\n",
       "  </thead>\n",
       "  <tbody>\n",
       "    <tr>\n",
       "      <th>0</th>\n",
       "      <td>Alex Abrines</td>\n",
       "      <td>SG</td>\n",
       "      <td>23</td>\n",
       "      <td>OKC</td>\n",
       "      <td>68</td>\n",
       "      <td>1055</td>\n",
       "      <td>10.1</td>\n",
       "      <td>.560</td>\n",
       "      <td>.724</td>\n",
       "      <td>.144</td>\n",
       "      <td>...</td>\n",
       "      <td></td>\n",
       "      <td>1.2</td>\n",
       "      <td>0.9</td>\n",
       "      <td>2.1</td>\n",
       "      <td>.096</td>\n",
       "      <td></td>\n",
       "      <td>-0.3</td>\n",
       "      <td>-2.2</td>\n",
       "      <td>-2.5</td>\n",
       "      <td>-0.1</td>\n",
       "    </tr>\n",
       "    <tr>\n",
       "      <th>1</th>\n",
       "      <td>Quincy Acy</td>\n",
       "      <td>PF</td>\n",
       "      <td>26</td>\n",
       "      <td>TOT</td>\n",
       "      <td>38</td>\n",
       "      <td>558</td>\n",
       "      <td>11.8</td>\n",
       "      <td>.565</td>\n",
       "      <td>.529</td>\n",
       "      <td>.353</td>\n",
       "      <td>...</td>\n",
       "      <td></td>\n",
       "      <td>0.5</td>\n",
       "      <td>0.5</td>\n",
       "      <td>0.9</td>\n",
       "      <td>.082</td>\n",
       "      <td></td>\n",
       "      <td>-1.8</td>\n",
       "      <td>-1.2</td>\n",
       "      <td>-3.0</td>\n",
       "      <td>-0.1</td>\n",
       "    </tr>\n",
       "    <tr>\n",
       "      <th>2</th>\n",
       "      <td>Quincy Acy</td>\n",
       "      <td>PF</td>\n",
       "      <td>26</td>\n",
       "      <td>DAL</td>\n",
       "      <td>6</td>\n",
       "      <td>48</td>\n",
       "      <td>-1.4</td>\n",
       "      <td>.355</td>\n",
       "      <td>.412</td>\n",
       "      <td>.176</td>\n",
       "      <td>...</td>\n",
       "      <td></td>\n",
       "      <td>-0.2</td>\n",
       "      <td>0.0</td>\n",
       "      <td>-0.1</td>\n",
       "      <td>-0.133</td>\n",
       "      <td></td>\n",
       "      <td>-10.1</td>\n",
       "      <td>-6.0</td>\n",
       "      <td>-16.2</td>\n",
       "      <td>-0.2</td>\n",
       "    </tr>\n",
       "    <tr>\n",
       "      <th>3</th>\n",
       "      <td>Quincy Acy</td>\n",
       "      <td>PF</td>\n",
       "      <td>26</td>\n",
       "      <td>BRK</td>\n",
       "      <td>32</td>\n",
       "      <td>510</td>\n",
       "      <td>13.1</td>\n",
       "      <td>.587</td>\n",
       "      <td>.542</td>\n",
       "      <td>.373</td>\n",
       "      <td>...</td>\n",
       "      <td></td>\n",
       "      <td>0.6</td>\n",
       "      <td>0.5</td>\n",
       "      <td>1.1</td>\n",
       "      <td>.102</td>\n",
       "      <td></td>\n",
       "      <td>-1.1</td>\n",
       "      <td>-0.7</td>\n",
       "      <td>-1.8</td>\n",
       "      <td>0.0</td>\n",
       "    </tr>\n",
       "    <tr>\n",
       "      <th>4</th>\n",
       "      <td>Steven Adams</td>\n",
       "      <td>C</td>\n",
       "      <td>23</td>\n",
       "      <td>OKC</td>\n",
       "      <td>80</td>\n",
       "      <td>2389</td>\n",
       "      <td>16.5</td>\n",
       "      <td>.589</td>\n",
       "      <td>.002</td>\n",
       "      <td>.392</td>\n",
       "      <td>...</td>\n",
       "      <td></td>\n",
       "      <td>3.3</td>\n",
       "      <td>3.1</td>\n",
       "      <td>6.5</td>\n",
       "      <td>.130</td>\n",
       "      <td></td>\n",
       "      <td>-0.7</td>\n",
       "      <td>1.2</td>\n",
       "      <td>0.6</td>\n",
       "      <td>1.5</td>\n",
       "    </tr>\n",
       "  </tbody>\n",
       "</table>\n",
       "<p>5 rows × 28 columns</p>\n",
       "</div>"
      ],
      "text/plain": [
       "         Player Pos Age   Tm   G    MP   PER   TS%  3PAr   FTr  ...      OWS  \\\n",
       "0  Alex Abrines  SG  23  OKC  68  1055  10.1  .560  .724  .144  ...      1.2   \n",
       "1    Quincy Acy  PF  26  TOT  38   558  11.8  .565  .529  .353  ...      0.5   \n",
       "2    Quincy Acy  PF  26  DAL   6    48  -1.4  .355  .412  .176  ...     -0.2   \n",
       "3    Quincy Acy  PF  26  BRK  32   510  13.1  .587  .542  .373  ...      0.6   \n",
       "4  Steven Adams   C  23  OKC  80  2389  16.5  .589  .002  .392  ...      3.3   \n",
       "\n",
       "   DWS    WS   WS/48     OBPM  DBPM    BPM  VORP  \n",
       "0  0.9   2.1    .096     -0.3  -2.2   -2.5  -0.1  \n",
       "1  0.5   0.9    .082     -1.8  -1.2   -3.0  -0.1  \n",
       "2  0.0  -0.1  -0.133    -10.1  -6.0  -16.2  -0.2  \n",
       "3  0.5   1.1    .102     -1.1  -0.7   -1.8   0.0  \n",
       "4  3.1   6.5    .130     -0.7   1.2    0.6   1.5  \n",
       "\n",
       "[5 rows x 28 columns]"
      ]
     },
     "execution_count": 16,
     "metadata": {},
     "output_type": "execute_result"
    }
   ],
   "source": [
    "df.head(n=5)"
   ]
  },
  {
   "cell_type": "code",
   "execution_count": 17,
   "metadata": {},
   "outputs": [
    {
     "data": {
      "text/plain": [
       "[u'Player',\n",
       " u'Pos',\n",
       " u'Age',\n",
       " u'Tm',\n",
       " u'G',\n",
       " u'MP',\n",
       " u'PER',\n",
       " u'TS%',\n",
       " u'3PAr',\n",
       " u'FTr',\n",
       " u'ORB%',\n",
       " u'DRB%',\n",
       " u'TRB%',\n",
       " u'AST%',\n",
       " u'STL%',\n",
       " u'BLK%',\n",
       " u'TOV%',\n",
       " u'USG%',\n",
       " u'\\xa0',\n",
       " u'OWS',\n",
       " u'DWS',\n",
       " u'WS',\n",
       " u'WS/48',\n",
       " u'\\xa0',\n",
       " u'OBPM',\n",
       " u'DBPM',\n",
       " u'BPM',\n",
       " u'VORP']"
      ]
     },
     "execution_count": 17,
     "metadata": {},
     "output_type": "execute_result"
    }
   ],
   "source": [
    "# Check DataFrame column names\n",
    "list(df)"
   ]
  },
  {
   "cell_type": "code",
   "execution_count": 18,
   "metadata": {
    "collapsed": true
   },
   "outputs": [],
   "source": [
    "df = gen_cleaning(df)"
   ]
  },
  {
   "cell_type": "code",
   "execution_count": 19,
   "metadata": {},
   "outputs": [
    {
     "data": {
      "text/plain": [
       "486"
      ]
     },
     "execution_count": 19,
     "metadata": {},
     "output_type": "execute_result"
    }
   ],
   "source": [
    "len(df)"
   ]
  },
  {
   "cell_type": "code",
   "execution_count": 20,
   "metadata": {
    "scrolled": true
   },
   "outputs": [
    {
     "data": {
      "text/html": [
       "<div>\n",
       "<style>\n",
       "    .dataframe thead tr:only-child th {\n",
       "        text-align: right;\n",
       "    }\n",
       "\n",
       "    .dataframe thead th {\n",
       "        text-align: left;\n",
       "    }\n",
       "\n",
       "    .dataframe tbody tr th {\n",
       "        vertical-align: top;\n",
       "    }\n",
       "</style>\n",
       "<table border=\"1\" class=\"dataframe\">\n",
       "  <thead>\n",
       "    <tr style=\"text-align: right;\">\n",
       "      <th></th>\n",
       "      <th>Player</th>\n",
       "      <th>Pos</th>\n",
       "      <th>Age</th>\n",
       "      <th>Tm</th>\n",
       "      <th>G</th>\n",
       "      <th>MP</th>\n",
       "      <th>PER</th>\n",
       "      <th>TS_perc</th>\n",
       "      <th>3PAr</th>\n",
       "      <th>FTr</th>\n",
       "      <th>...</th>\n",
       "      <th></th>\n",
       "      <th>OWS</th>\n",
       "      <th>DWS</th>\n",
       "      <th>WS</th>\n",
       "      <th>WS/48</th>\n",
       "      <th></th>\n",
       "      <th>OBPM</th>\n",
       "      <th>DBPM</th>\n",
       "      <th>BPM</th>\n",
       "      <th>VORP</th>\n",
       "    </tr>\n",
       "  </thead>\n",
       "  <tbody>\n",
       "    <tr>\n",
       "      <th>0</th>\n",
       "      <td>Alex Abrines</td>\n",
       "      <td>SG</td>\n",
       "      <td>23</td>\n",
       "      <td>OKC</td>\n",
       "      <td>68</td>\n",
       "      <td>1055</td>\n",
       "      <td>10.1</td>\n",
       "      <td>.560</td>\n",
       "      <td>.724</td>\n",
       "      <td>.144</td>\n",
       "      <td>...</td>\n",
       "      <td></td>\n",
       "      <td>1.2</td>\n",
       "      <td>0.9</td>\n",
       "      <td>2.1</td>\n",
       "      <td>.096</td>\n",
       "      <td></td>\n",
       "      <td>-0.3</td>\n",
       "      <td>-2.2</td>\n",
       "      <td>-2.5</td>\n",
       "      <td>-0.1</td>\n",
       "    </tr>\n",
       "    <tr>\n",
       "      <th>1</th>\n",
       "      <td>Quincy Acy</td>\n",
       "      <td>PF</td>\n",
       "      <td>26</td>\n",
       "      <td>TOT</td>\n",
       "      <td>38</td>\n",
       "      <td>558</td>\n",
       "      <td>11.8</td>\n",
       "      <td>.565</td>\n",
       "      <td>.529</td>\n",
       "      <td>.353</td>\n",
       "      <td>...</td>\n",
       "      <td></td>\n",
       "      <td>0.5</td>\n",
       "      <td>0.5</td>\n",
       "      <td>0.9</td>\n",
       "      <td>.082</td>\n",
       "      <td></td>\n",
       "      <td>-1.8</td>\n",
       "      <td>-1.2</td>\n",
       "      <td>-3.0</td>\n",
       "      <td>-0.1</td>\n",
       "    </tr>\n",
       "    <tr>\n",
       "      <th>4</th>\n",
       "      <td>Steven Adams</td>\n",
       "      <td>C</td>\n",
       "      <td>23</td>\n",
       "      <td>OKC</td>\n",
       "      <td>80</td>\n",
       "      <td>2389</td>\n",
       "      <td>16.5</td>\n",
       "      <td>.589</td>\n",
       "      <td>.002</td>\n",
       "      <td>.392</td>\n",
       "      <td>...</td>\n",
       "      <td></td>\n",
       "      <td>3.3</td>\n",
       "      <td>3.1</td>\n",
       "      <td>6.5</td>\n",
       "      <td>.130</td>\n",
       "      <td></td>\n",
       "      <td>-0.7</td>\n",
       "      <td>1.2</td>\n",
       "      <td>0.6</td>\n",
       "      <td>1.5</td>\n",
       "    </tr>\n",
       "    <tr>\n",
       "      <th>5</th>\n",
       "      <td>Arron Afflalo</td>\n",
       "      <td>SG</td>\n",
       "      <td>31</td>\n",
       "      <td>SAC</td>\n",
       "      <td>61</td>\n",
       "      <td>1580</td>\n",
       "      <td>8.9</td>\n",
       "      <td>.559</td>\n",
       "      <td>.360</td>\n",
       "      <td>.221</td>\n",
       "      <td>...</td>\n",
       "      <td></td>\n",
       "      <td>1.2</td>\n",
       "      <td>0.2</td>\n",
       "      <td>1.4</td>\n",
       "      <td>.043</td>\n",
       "      <td></td>\n",
       "      <td>-1.4</td>\n",
       "      <td>-2.1</td>\n",
       "      <td>-3.5</td>\n",
       "      <td>-0.6</td>\n",
       "    </tr>\n",
       "    <tr>\n",
       "      <th>6</th>\n",
       "      <td>Alexis Ajinca</td>\n",
       "      <td>C</td>\n",
       "      <td>28</td>\n",
       "      <td>NOP</td>\n",
       "      <td>39</td>\n",
       "      <td>584</td>\n",
       "      <td>12.9</td>\n",
       "      <td>.529</td>\n",
       "      <td>.022</td>\n",
       "      <td>.225</td>\n",
       "      <td>...</td>\n",
       "      <td></td>\n",
       "      <td>0.0</td>\n",
       "      <td>0.9</td>\n",
       "      <td>1.0</td>\n",
       "      <td>.080</td>\n",
       "      <td></td>\n",
       "      <td>-5.1</td>\n",
       "      <td>1.0</td>\n",
       "      <td>-4.1</td>\n",
       "      <td>-0.3</td>\n",
       "    </tr>\n",
       "    <tr>\n",
       "      <th>7</th>\n",
       "      <td>Cole Aldrich</td>\n",
       "      <td>C</td>\n",
       "      <td>28</td>\n",
       "      <td>MIN</td>\n",
       "      <td>62</td>\n",
       "      <td>531</td>\n",
       "      <td>12.7</td>\n",
       "      <td>.549</td>\n",
       "      <td>.000</td>\n",
       "      <td>.256</td>\n",
       "      <td>...</td>\n",
       "      <td></td>\n",
       "      <td>0.6</td>\n",
       "      <td>0.7</td>\n",
       "      <td>1.3</td>\n",
       "      <td>.116</td>\n",
       "      <td></td>\n",
       "      <td>-2.0</td>\n",
       "      <td>2.6</td>\n",
       "      <td>0.6</td>\n",
       "      <td>0.4</td>\n",
       "    </tr>\n",
       "    <tr>\n",
       "      <th>8</th>\n",
       "      <td>LaMarcus Aldridge</td>\n",
       "      <td>PF</td>\n",
       "      <td>31</td>\n",
       "      <td>SAS</td>\n",
       "      <td>72</td>\n",
       "      <td>2335</td>\n",
       "      <td>18.6</td>\n",
       "      <td>.532</td>\n",
       "      <td>.053</td>\n",
       "      <td>.258</td>\n",
       "      <td>...</td>\n",
       "      <td></td>\n",
       "      <td>3.5</td>\n",
       "      <td>3.7</td>\n",
       "      <td>7.2</td>\n",
       "      <td>.149</td>\n",
       "      <td></td>\n",
       "      <td>-0.3</td>\n",
       "      <td>1.3</td>\n",
       "      <td>1.0</td>\n",
       "      <td>1.8</td>\n",
       "    </tr>\n",
       "    <tr>\n",
       "      <th>9</th>\n",
       "      <td>Lavoy Allen</td>\n",
       "      <td>PF</td>\n",
       "      <td>27</td>\n",
       "      <td>IND</td>\n",
       "      <td>61</td>\n",
       "      <td>871</td>\n",
       "      <td>11.6</td>\n",
       "      <td>.485</td>\n",
       "      <td>.006</td>\n",
       "      <td>.196</td>\n",
       "      <td>...</td>\n",
       "      <td></td>\n",
       "      <td>0.9</td>\n",
       "      <td>0.8</td>\n",
       "      <td>1.7</td>\n",
       "      <td>.093</td>\n",
       "      <td></td>\n",
       "      <td>-1.5</td>\n",
       "      <td>1.3</td>\n",
       "      <td>-0.3</td>\n",
       "      <td>0.4</td>\n",
       "    </tr>\n",
       "  </tbody>\n",
       "</table>\n",
       "<p>8 rows × 28 columns</p>\n",
       "</div>"
      ],
      "text/plain": [
       "              Player Pos Age   Tm   G    MP   PER TS_perc  3PAr   FTr  ...     \\\n",
       "0       Alex Abrines  SG  23  OKC  68  1055  10.1    .560  .724  .144  ...      \n",
       "1         Quincy Acy  PF  26  TOT  38   558  11.8    .565  .529  .353  ...      \n",
       "4       Steven Adams   C  23  OKC  80  2389  16.5    .589  .002  .392  ...      \n",
       "5      Arron Afflalo  SG  31  SAC  61  1580   8.9    .559  .360  .221  ...      \n",
       "6      Alexis Ajinca   C  28  NOP  39   584  12.9    .529  .022  .225  ...      \n",
       "7       Cole Aldrich   C  28  MIN  62   531  12.7    .549  .000  .256  ...      \n",
       "8  LaMarcus Aldridge  PF  31  SAS  72  2335  18.6    .532  .053  .258  ...      \n",
       "9        Lavoy Allen  PF  27  IND  61   871  11.6    .485  .006  .196  ...      \n",
       "\n",
       "   OWS  DWS   WS WS/48    OBPM  DBPM   BPM  VORP  \n",
       "0  1.2  0.9  2.1  .096    -0.3  -2.2  -2.5  -0.1  \n",
       "1  0.5  0.5  0.9  .082    -1.8  -1.2  -3.0  -0.1  \n",
       "4  3.3  3.1  6.5  .130    -0.7   1.2   0.6   1.5  \n",
       "5  1.2  0.2  1.4  .043    -1.4  -2.1  -3.5  -0.6  \n",
       "6  0.0  0.9  1.0  .080    -5.1   1.0  -4.1  -0.3  \n",
       "7  0.6  0.7  1.3  .116    -2.0   2.6   0.6   0.4  \n",
       "8  3.5  3.7  7.2  .149    -0.3   1.3   1.0   1.8  \n",
       "9  0.9  0.8  1.7  .093    -1.5   1.3  -0.3   0.4  \n",
       "\n",
       "[8 rows x 28 columns]"
      ]
     },
     "execution_count": 20,
     "metadata": {},
     "output_type": "execute_result"
    }
   ],
   "source": [
    "df.head(n=8)"
   ]
  },
  {
   "cell_type": "code",
   "execution_count": 21,
   "metadata": {
    "collapsed": true
   },
   "outputs": [],
   "source": [
    "for year in range(1977, 2017): # for each year\n",
    "    # Year starts after NBA-ABA merger\n",
    "    # URLs for each type of page\n",
    "    per_g_url = per_g_url_template.format(year=year)\n",
    "    adv_url = adv_url_template.format(year=year)\n",
    "    tot_url = tot_url_template.format(year=year)\n",
    "    per_36m_url = per_36m_url_template.format(year=year)\n",
    "    per_100p_url = per_100p_url_template.format(year=year)"
   ]
  },
  {
   "cell_type": "code",
   "execution_count": 22,
   "metadata": {
    "collapsed": true
   },
   "outputs": [],
   "source": [
    "column_headers = []"
   ]
  },
  {
   "cell_type": "code",
   "execution_count": 23,
   "metadata": {},
   "outputs": [
    {
     "data": {
      "text/plain": [
       "0"
      ]
     },
     "execution_count": 23,
     "metadata": {},
     "output_type": "execute_result"
    }
   ],
   "source": [
    "len(column_headers)"
   ]
  },
  {
   "cell_type": "code",
   "execution_count": 24,
   "metadata": {},
   "outputs": [
    {
     "data": {
      "text/plain": [
       "0"
      ]
     },
     "execution_count": 24,
     "metadata": {},
     "output_type": "execute_result"
    }
   ],
   "source": [
    "len(player_data)"
   ]
  },
  {
   "cell_type": "code",
   "execution_count": 28,
   "metadata": {},
   "outputs": [
    {
     "name": "stdout",
     "output_type": "stream",
     "text": [
      "      Season          Player Pos Age   Tm   G    MP   PER   TS%  3PAr ...     \\\n",
      "670  2014-16  Thaddeus Young  PF  26  TOT  76  2434  15.7  .507  .119 ...      \n",
      "671  2014-16  Thaddeus Young  PF  26  MIN  48  1605  15.0  .491  .101 ...      \n",
      "672  2014-16  Thaddeus Young  PF  26  BRK  28   829  17.1  .539  .153 ...      \n",
      "673  2014-16     Cody Zeller   C  22  CHO  62  1487  14.1  .530  .003 ...      \n",
      "674  2014-16    Tyler Zeller   C  25  BOS  82  1731  18.9  .594  .000 ...      \n",
      "\n",
      "     OWS  DWS   WS WS/48    OBPM  DBPM   BPM VORP  \n",
      "670  1.6  1.4  3.1  .061     0.2  -0.3  -0.1  1.2  \n",
      "671  0.8  0.6  1.4  .043     0.1  -0.4  -0.4  0.7  \n",
      "672  0.8  0.8  1.6  .095     0.4   0.0   0.3  0.5  \n",
      "673  1.6  2.2  3.8  .123    -2.1   2.5   0.4  0.9  \n",
      "674  4.5  2.0  6.5  .179     0.4   0.4   0.9  1.2  \n",
      "\n",
      "[5 rows x 29 columns]\n"
     ]
    }
   ],
   "source": [
    "scrape_pages(adv_url_template, 2015, 2016, df_adv)"
   ]
  }
 ],
 "metadata": {
  "kernelspec": {
   "display_name": "Python 2",
   "language": "python",
   "name": "python2"
  },
  "language_info": {
   "codemirror_mode": {
    "name": "ipython",
    "version": 2
   },
   "file_extension": ".py",
   "mimetype": "text/x-python",
   "name": "python",
   "nbconvert_exporter": "python",
   "pygments_lexer": "ipython2",
   "version": "2.7.13"
  }
 },
 "nbformat": 4,
 "nbformat_minor": 2
}
